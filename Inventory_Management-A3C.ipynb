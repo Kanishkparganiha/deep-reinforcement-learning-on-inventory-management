{
 "cells": [
  {
   "cell_type": "code",
   "execution_count": null,
   "metadata": {
    "id": "DSi5jpQAKoPy"
   },
   "outputs": [],
   "source": [
    "%%capture\n",
    "!pip install -U ray\n",
    "!pip install lz4\n",
    "!pip install or-gym\n",
    "!pip install ray[rllib]"
   ]
  },
  {
   "cell_type": "code",
   "execution_count": 19,
   "metadata": {
    "id": "xdtQQpGjKQbx"
   },
   "outputs": [],
   "source": [
    "%%capture\n",
    "import or_gym\n",
    "from or_gym.utils import create_env\n",
    "import ray\n",
    "from ray.rllib import agents\n",
    "from ray import tune\n",
    "import pandas as pd\n",
    "import numpy as np"
   ]
  },
  {
   "cell_type": "code",
   "execution_count": 20,
   "metadata": {
    "id": "UBkMy-uzKT4J"
   },
   "outputs": [],
   "source": [
    "def register_env(env_name, env_config={}):\n",
    "    env = create_env(env_name)\n",
    "    tune.register_env(env_name, \n",
    "        lambda env_name: env(env_name,\n",
    "            env_config=env_config))"
   ]
  },
  {
   "cell_type": "code",
   "execution_count": 21,
   "metadata": {},
   "outputs": [],
   "source": [
    "env = or_gym.make('InvManagement-v1')\n",
    "env_var={'Initial_Inventory':env.I0,'Units_BackLog_Price':env.k,'Production_Capacity':env.c,'Units_Replenishment_Cost':env.r,'Units_Holding_Cost':env.h,'Lead_Times':env.L}\n"
   ]
  },
  {
   "cell_type": "code",
   "execution_count": 22,
   "metadata": {},
   "outputs": [],
   "source": [
    "Initial_Inventory=env.I0\n",
    "Units_BackLog_Cost=env.k\n",
    "Production_Capacity=env.c\n",
    "Units_Replenishment_Cost=env.r\n",
    "Units_Holding_Cost=env.h\n",
    "Lead_Times=env.L\n"
   ]
  },
  {
   "cell_type": "code",
   "execution_count": 23,
   "metadata": {},
   "outputs": [],
   "source": [
    "env_name = 'InvManagement-v1'\n",
    "env_config = {'Initial_Inventory': np.array([50, 150,200,'-']),\n",
    "              'Units_BackLog_Price': np.array([0.1, 0.55,0.075,0.05]),\n",
    "              'Units_Replenishment_Cost': np.array([2,1.75,0.75,0.5]),\n",
    "              'Units_Holding_Cost': np.array([0.15, 0.1,0.05,'-']),\n",
    "              'Lead_Times':  np.array([3, 5,10,'-']),\n",
    "              'Production_Capacity':np.array([100,90,80,'-']),\n",
    "              }\n",
    "\n"
   ]
  },
  {
   "cell_type": "code",
   "execution_count": 24,
   "metadata": {},
   "outputs": [
    {
     "data": {
      "text/html": [
       "<style type=\"text/css\">\n",
       "</style>\n",
       "<table id=\"T_830c9_\">\n",
       "  <thead>\n",
       "    <tr>\n",
       "      <th class=\"blank level0\" >&nbsp;</th>\n",
       "      <th class=\"col_heading level0 col0\" >Stage_0</th>\n",
       "      <th class=\"col_heading level0 col1\" >Stage_1</th>\n",
       "      <th class=\"col_heading level0 col2\" >Stage_2</th>\n",
       "      <th class=\"col_heading level0 col3\" >Stage_3</th>\n",
       "    </tr>\n",
       "  </thead>\n",
       "  <tbody>\n",
       "    <tr>\n",
       "      <th id=\"T_830c9_level0_row0\" class=\"row_heading level0 row0\" >Initial_Inventory</th>\n",
       "      <td id=\"T_830c9_row0_col0\" class=\"data row0 col0\" >50</td>\n",
       "      <td id=\"T_830c9_row0_col1\" class=\"data row0 col1\" >150</td>\n",
       "      <td id=\"T_830c9_row0_col2\" class=\"data row0 col2\" >200</td>\n",
       "      <td id=\"T_830c9_row0_col3\" class=\"data row0 col3\" >-</td>\n",
       "    </tr>\n",
       "    <tr>\n",
       "      <th id=\"T_830c9_level0_row1\" class=\"row_heading level0 row1\" >Units_BackLog_Price</th>\n",
       "      <td id=\"T_830c9_row1_col0\" class=\"data row1 col0\" >0.100000</td>\n",
       "      <td id=\"T_830c9_row1_col1\" class=\"data row1 col1\" >0.550000</td>\n",
       "      <td id=\"T_830c9_row1_col2\" class=\"data row1 col2\" >0.075000</td>\n",
       "      <td id=\"T_830c9_row1_col3\" class=\"data row1 col3\" >0.050000</td>\n",
       "    </tr>\n",
       "    <tr>\n",
       "      <th id=\"T_830c9_level0_row2\" class=\"row_heading level0 row2\" >Units_Replenishment_Cost</th>\n",
       "      <td id=\"T_830c9_row2_col0\" class=\"data row2 col0\" >2.000000</td>\n",
       "      <td id=\"T_830c9_row2_col1\" class=\"data row2 col1\" >1.750000</td>\n",
       "      <td id=\"T_830c9_row2_col2\" class=\"data row2 col2\" >0.750000</td>\n",
       "      <td id=\"T_830c9_row2_col3\" class=\"data row2 col3\" >0.500000</td>\n",
       "    </tr>\n",
       "    <tr>\n",
       "      <th id=\"T_830c9_level0_row3\" class=\"row_heading level0 row3\" >Units_Holding_Cost</th>\n",
       "      <td id=\"T_830c9_row3_col0\" class=\"data row3 col0\" >0.15</td>\n",
       "      <td id=\"T_830c9_row3_col1\" class=\"data row3 col1\" >0.1</td>\n",
       "      <td id=\"T_830c9_row3_col2\" class=\"data row3 col2\" >0.05</td>\n",
       "      <td id=\"T_830c9_row3_col3\" class=\"data row3 col3\" >-</td>\n",
       "    </tr>\n",
       "    <tr>\n",
       "      <th id=\"T_830c9_level0_row4\" class=\"row_heading level0 row4\" >Lead_Times</th>\n",
       "      <td id=\"T_830c9_row4_col0\" class=\"data row4 col0\" >3</td>\n",
       "      <td id=\"T_830c9_row4_col1\" class=\"data row4 col1\" >5</td>\n",
       "      <td id=\"T_830c9_row4_col2\" class=\"data row4 col2\" >10</td>\n",
       "      <td id=\"T_830c9_row4_col3\" class=\"data row4 col3\" >-</td>\n",
       "    </tr>\n",
       "    <tr>\n",
       "      <th id=\"T_830c9_level0_row5\" class=\"row_heading level0 row5\" >Production_Capacity</th>\n",
       "      <td id=\"T_830c9_row5_col0\" class=\"data row5 col0\" >100</td>\n",
       "      <td id=\"T_830c9_row5_col1\" class=\"data row5 col1\" >90</td>\n",
       "      <td id=\"T_830c9_row5_col2\" class=\"data row5 col2\" >80</td>\n",
       "      <td id=\"T_830c9_row5_col3\" class=\"data row5 col3\" >-</td>\n",
       "    </tr>\n",
       "  </tbody>\n",
       "</table>\n"
      ],
      "text/plain": [
       "<pandas.io.formats.style.Styler at 0x7efd912e3c70>"
      ]
     },
     "execution_count": 24,
     "metadata": {},
     "output_type": "execute_result"
    }
   ],
   "source": [
    "pd.DataFrame(env_config,index=['Stage_0','Stage_1','Stage_2','Stage_3']).T.style"
   ]
  },
  {
   "cell_type": "code",
   "execution_count": 25,
   "metadata": {
    "id": "cxD17vsHKWR3"
   },
   "outputs": [],
   "source": [
    "# Environment and RL Configuration Settings\n",
    "rl_config = dict(\n",
    "    env=env_name,\n",
    "    num_workers=10,\n",
    "    \n",
    "    env_config=env_config,\n",
    "    model=dict(\n",
    "        vf_share_layers=False,\n",
    "        fcnet_activation='relu',\n",
    "        fcnet_hiddens=[256, 256]\n",
    "    ),\n",
    "    framework='torch',\n",
    "    lr=1e-3,\n",
    "    clip_param= 0.1\n",
    ")\n"
   ]
  },
  {
   "cell_type": "code",
   "execution_count": 7,
   "metadata": {},
   "outputs": [
    {
     "data": {
      "text/plain": [
       "True"
      ]
     },
     "execution_count": 7,
     "metadata": {},
     "output_type": "execute_result"
    }
   ],
   "source": [
    "import torch\n",
    "torch.cuda.is_available()"
   ]
  },
  {
   "cell_type": "code",
   "execution_count": 26,
   "metadata": {},
   "outputs": [],
   "source": [
    "import time"
   ]
  },
  {
   "cell_type": "markdown",
   "metadata": {},
   "source": [
    "## Actor-Critic Method\n",
    "\n",
    "\n"
   ]
  },
  {
   "cell_type": "code",
   "execution_count": null,
   "metadata": {},
   "outputs": [],
   "source": [
    "# Register environment\n",
    "start=time.time()\n",
    "ray.shutdown()\n",
    "register_env(env_name, env_config)\n",
    "\n",
    "# Initialize Ray and Build Agent\n",
    "ray.init(ignore_reinit_error=True,num_cpus=10)\n",
    "\n",
    "agent = agents.a3c.A2CTrainer(env=env_name,\n",
    "    config=rl_config)\n",
    "results = []\n",
    "for i in range(800):\n",
    "    res = agent.train()\n",
    "    results.append(res)\n",
    "    if (i+1) % 5 == 0:\n",
    "        print('\\rIter: {}\\tReward: {:.2f}'.format(\n",
    "                i+1, res['episode_reward_mean']), end='')\n",
    "\n",
    "ray.shutdown()\n",
    "end=time.time()"
   ]
  },
  {
   "cell_type": "code",
   "execution_count": 33,
   "metadata": {
    "id": "TnBMpS2GKbqB"
   },
   "outputs": [
    {
     "name": "stdout",
     "output_type": "stream",
     "text": [
      "Figure(1440x720)\n"
     ]
    }
   ],
   "source": [
    "import numpy as np\n",
    "import matplotlib.pyplot as plt\n",
    "from matplotlib import gridspec\n",
    "# Unpack values from each iteration\n",
    "rewards = np.hstack([i['hist_stats']['episode_reward'] \n",
    "    for i in results])\n",
    "pol_loss = [\n",
    "    i['info']['learner']['default_policy']['learner_stats']['policy_loss'] \n",
    "    for i in results]\n",
    "vf_loss = [\n",
    "    i['info']['learner']['default_policy']['learner_stats']['vf_loss'] \n",
    "    for i in results]\n",
    "p = 100\n",
    "\n",
    "mean_rewards = np.array([np.mean(rewards[i-p:i+1]) \n",
    "                if i >= p else np.mean(rewards[:i+1]) \n",
    "                for i, _ in enumerate(rewards)])\n",
    "std_rewards = np.array([np.std(rewards[i-p:i+1])\n",
    "               if i >= p else np.std(rewards[:i+1])\n",
    "               for i, _ in enumerate(rewards)])\n",
    "\n",
    "fig = plt.figure(constrained_layout=True, figsize=(20, 10))\n",
    "gs = fig.add_gridspec(2, 4)\n",
    "ax0 = fig.add_subplot(gs[:, :-2])\n",
    "ax0.fill_between(np.arange(len(mean_rewards)), \n",
    "                 mean_rewards - std_rewards, \n",
    "                 mean_rewards + std_rewards, \n",
    "                 label='Standard Deviation', alpha=0.3)\n",
    "ax0.plot(mean_rewards, label='Mean Rewards')\n",
    "ax0.set_ylabel('Rewards')\n",
    "ax0.set_xlabel('Episode')\n",
    "ax0.set_title('Training Rewards')\n",
    "ax0.legend()\n",
    "ax1 = fig.add_subplot(gs[0, 2:])\n",
    "ax1.plot(pol_loss)\n",
    "ax1.set_ylabel('Loss')\n",
    "ax1.set_xlabel('Iteration')\n",
    "ax1.set_title('Policy Loss')\n",
    "ax2 = fig.add_subplot(gs[1, 2:])\n",
    "ax2.plot(vf_loss)\n",
    "ax2.set_ylabel('Loss')\n",
    "ax2.set_xlabel('Iteration')\n",
    "ax2.set_title('Value Function Loss')\n",
    "#plt.suptitle('Asynchronous Advantage Actor-Critic',fontsize=20)\n",
    "plt.savefig(\"Results_ActorCritic.png\", dpi=300)\n",
    "plt.show()"
   ]
  },
  {
   "cell_type": "code",
   "execution_count": 29,
   "metadata": {},
   "outputs": [],
   "source": [
    "import pickle\n",
    "filename='results_A3C.sav'\n",
    "#pickle.dump(results, open(filename, 'wb'))\n",
    "\n",
    "results = pickle.load(open(filename, 'rb'))"
   ]
  },
  {
   "cell_type": "code",
   "execution_count": 38,
   "metadata": {},
   "outputs": [],
   "source": [
    "import pickle\n",
    "filename_3='results_ppo_0.3.sav'\n",
    "filename_2='results_ppo_0.2.sav'\n",
    "results_ppo_3 = pickle.load(open(filename_3, 'rb'))\n",
    "results_ppo_2 = pickle.load(open(filename_2, 'rb'))"
   ]
  },
  {
   "cell_type": "code",
   "execution_count": 44,
   "metadata": {},
   "outputs": [
    {
     "name": "stdout",
     "output_type": "stream",
     "text": [
      "Figure(1440x720)\n"
     ]
    }
   ],
   "source": [
    "import numpy as np\n",
    "import matplotlib.pyplot as plt\n",
    "from matplotlib import gridspec\n",
    "# Unpack values from each iteration\n",
    "\n",
    "\n",
    "\n",
    "p = 100\n",
    "\n",
    "rewards_ppo_3 = np.hstack([i['hist_stats']['episode_reward'] \n",
    "    for i in results_ppo_3])\n",
    "pol_loss_ppo_3 = [\n",
    "    i['info']['learner']['default_policy']['learner_stats']['policy_loss'] \n",
    "    for i in results_ppo_3]\n",
    "vf_loss_ppo_3 = [\n",
    "    i['info']['learner']['default_policy']['learner_stats']['vf_loss'] \n",
    "    for i in results_ppo_3]\n",
    "\n",
    "\n",
    "mean_rewards_3 = np.array([np.mean(rewards_ppo_3[i-p:i+1]) \n",
    "                if i >= p else np.mean(rewards_ppo_3[:i+1]) \n",
    "                for i, _ in enumerate(rewards_ppo_3)])\n",
    "std_rewards_3 = np.array([np.std(rewards[i-p:i+1])\n",
    "               if i >= p else np.std(rewards_ppo_3[:i+1])\n",
    "               for i, _ in enumerate(rewards_ppo_3)])\n",
    "\n",
    "\n",
    "\n",
    "rewards_ppo_2 = np.hstack([i['hist_stats']['episode_reward'] \n",
    "    for i in results_ppo_2])\n",
    "pol_loss_ppo_2 = [\n",
    "    i['info']['learner']['default_policy']['learner_stats']['policy_loss'] \n",
    "    for i in results_ppo_2]\n",
    "vf_loss_ppo_2 = [\n",
    "    i['info']['learner']['default_policy']['learner_stats']['vf_loss'] \n",
    "    for i in results_ppo_2]\n",
    "\n",
    "\n",
    "mean_rewards_2 = np.array([np.mean(rewards_ppo_2[i-p:i+1]) \n",
    "                if i >= p else np.mean(rewards_ppo_2[:i+1]) \n",
    "                for i, _ in enumerate(rewards_ppo_2)])\n",
    "std_rewards_2 = np.array([np.std(rewards_ppo_2[i-p:i+1])\n",
    "               if i >= p else np.std(rewards_ppo_2[:i+1])\n",
    "               for i, _ in enumerate(rewards_ppo_2)])\n",
    "\n",
    "\n",
    "\n",
    "\n",
    "\n",
    "fig = plt.figure(constrained_layout=True, figsize=(20, 10))\n",
    "gs = fig.add_gridspec(2, 4)\n",
    "ax0 = fig.add_subplot(gs[:, :-2])\n",
    "ax0.fill_between(np.arange(len(mean_rewards)), \n",
    "                 mean_rewards - std_rewards, \n",
    "                 mean_rewards + std_rewards, \n",
    "                 label='Standard Deviation', alpha=0.3)\n",
    "ax0.plot(mean_rewards_3, label='PPO Clip Gradient 0.3')\n",
    "ax0.plot(mean_rewards_2, label='PPO Clip Gradient 0.2')\n",
    "ax0.set_ylabel('Rewards')\n",
    "ax0.set_xlabel('Episode')\n",
    "ax0.set_title('Training Rewards')\n",
    "ax0.legend()\n",
    "ax1 = fig.add_subplot(gs[0, 2:])\n",
    "ax1.plot(pol_loss_ppo_3,label='PPO Clip Gradient 0.3')\n",
    "ax1.plot(pol_loss_ppo_2,label='PPO Clip Gradient 0.2')\n",
    "ax1.set_ylabel('Loss')\n",
    "ax1.set_xlabel('Iteration')\n",
    "ax1.set_title('Policy Loss')\n",
    "ax2 = fig.add_subplot(gs[1, 2:])\n",
    "ax2.plot(vf_loss_ppo_3,label='PPO Clip Gradient 0.3')\n",
    "ax2.plot(vf_loss_ppo_2,label='PPO Clip Gradient 0.2')\n",
    "ax2.set_ylabel('Loss')\n",
    "ax2.set_xlabel('Iteration')\n",
    "ax2.set_title('Value Function Loss')\n",
    "plt.savefig(\"Testing.png\", dpi=300)\n",
    "plt.show()"
   ]
  }
 ],
 "metadata": {
  "colab": {
   "collapsed_sections": [],
   "name": "Inventory Management.ipynb",
   "provenance": []
  },
  "kernelspec": {
   "display_name": "Python 3",
   "language": "python",
   "name": "python3"
  },
  "language_info": {
   "codemirror_mode": {
    "name": "ipython",
    "version": 3
   },
   "file_extension": ".py",
   "mimetype": "text/x-python",
   "name": "python",
   "nbconvert_exporter": "python",
   "pygments_lexer": "ipython3",
   "version": "3.8.10"
  }
 },
 "nbformat": 4,
 "nbformat_minor": 1
}
